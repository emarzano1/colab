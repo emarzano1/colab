{
 "cells": [
  {
   "cell_type": "code",
   "execution_count": 1,
   "metadata": {},
   "outputs": [
    {
     "name": "stdout",
     "output_type": "stream",
     "text": [
      "Requirement already satisfied: pandas in /srv/conda/envs/notebook/lib/python3.10/site-packages (2.3.3)\n",
      "Requirement already satisfied: numpy>=1.22.4 in /srv/conda/envs/notebook/lib/python3.10/site-packages (from pandas) (2.2.6)\n",
      "Requirement already satisfied: python-dateutil>=2.8.2 in /srv/conda/envs/notebook/lib/python3.10/site-packages (from pandas) (2.9.0.post0)\n",
      "Requirement already satisfied: pytz>=2020.1 in /srv/conda/envs/notebook/lib/python3.10/site-packages (from pandas) (2025.2)\n",
      "Requirement already satisfied: tzdata>=2022.7 in /srv/conda/envs/notebook/lib/python3.10/site-packages (from pandas) (2025.2)\n",
      "Requirement already satisfied: six>=1.5 in /srv/conda/envs/notebook/lib/python3.10/site-packages (from python-dateutil>=2.8.2->pandas) (1.17.0)\n",
      "Requirement already satisfied: numpy in /srv/conda/envs/notebook/lib/python3.10/site-packages (2.2.6)\n",
      "Requirement already satisfied: scikit-learn in /srv/conda/envs/notebook/lib/python3.10/site-packages (1.7.2)\n",
      "Requirement already satisfied: numpy>=1.22.0 in /srv/conda/envs/notebook/lib/python3.10/site-packages (from scikit-learn) (2.2.6)\n",
      "Requirement already satisfied: scipy>=1.8.0 in /srv/conda/envs/notebook/lib/python3.10/site-packages (from scikit-learn) (1.15.3)\n",
      "Requirement already satisfied: joblib>=1.2.0 in /srv/conda/envs/notebook/lib/python3.10/site-packages (from scikit-learn) (1.5.2)\n",
      "Requirement already satisfied: threadpoolctl>=3.1.0 in /srv/conda/envs/notebook/lib/python3.10/site-packages (from scikit-learn) (3.6.0)\n",
      "Requirement already satisfied: Pillow in /srv/conda/envs/notebook/lib/python3.10/site-packages (12.0.0)\n",
      "Requirement already satisfied: lime in /srv/conda/envs/notebook/lib/python3.10/site-packages (0.2.0.1)\n",
      "Requirement already satisfied: matplotlib in /srv/conda/envs/notebook/lib/python3.10/site-packages (from lime) (3.10.7)\n",
      "Requirement already satisfied: numpy in /srv/conda/envs/notebook/lib/python3.10/site-packages (from lime) (2.2.6)\n",
      "Requirement already satisfied: scipy in /srv/conda/envs/notebook/lib/python3.10/site-packages (from lime) (1.15.3)\n",
      "Requirement already satisfied: tqdm in /srv/conda/envs/notebook/lib/python3.10/site-packages (from lime) (4.67.1)\n",
      "Requirement already satisfied: scikit-learn>=0.18 in /srv/conda/envs/notebook/lib/python3.10/site-packages (from lime) (1.7.2)\n",
      "Requirement already satisfied: scikit-image>=0.12 in /srv/conda/envs/notebook/lib/python3.10/site-packages (from lime) (0.25.2)\n",
      "Requirement already satisfied: networkx>=3.0 in /srv/conda/envs/notebook/lib/python3.10/site-packages (from scikit-image>=0.12->lime) (3.4.2)\n",
      "Requirement already satisfied: pillow>=10.1 in /srv/conda/envs/notebook/lib/python3.10/site-packages (from scikit-image>=0.12->lime) (12.0.0)\n",
      "Requirement already satisfied: imageio!=2.35.0,>=2.33 in /srv/conda/envs/notebook/lib/python3.10/site-packages (from scikit-image>=0.12->lime) (2.37.0)\n",
      "Requirement already satisfied: tifffile>=2022.8.12 in /srv/conda/envs/notebook/lib/python3.10/site-packages (from scikit-image>=0.12->lime) (2025.5.10)\n",
      "Requirement already satisfied: packaging>=21 in /srv/conda/envs/notebook/lib/python3.10/site-packages (from scikit-image>=0.12->lime) (25.0)\n",
      "Requirement already satisfied: lazy-loader>=0.4 in /srv/conda/envs/notebook/lib/python3.10/site-packages (from scikit-image>=0.12->lime) (0.4)\n",
      "Requirement already satisfied: joblib>=1.2.0 in /srv/conda/envs/notebook/lib/python3.10/site-packages (from scikit-learn>=0.18->lime) (1.5.2)\n",
      "Requirement already satisfied: threadpoolctl>=3.1.0 in /srv/conda/envs/notebook/lib/python3.10/site-packages (from scikit-learn>=0.18->lime) (3.6.0)\n",
      "Requirement already satisfied: contourpy>=1.0.1 in /srv/conda/envs/notebook/lib/python3.10/site-packages (from matplotlib->lime) (1.3.2)\n",
      "Requirement already satisfied: cycler>=0.10 in /srv/conda/envs/notebook/lib/python3.10/site-packages (from matplotlib->lime) (0.12.1)\n",
      "Requirement already satisfied: fonttools>=4.22.0 in /srv/conda/envs/notebook/lib/python3.10/site-packages (from matplotlib->lime) (4.60.1)\n",
      "Requirement already satisfied: kiwisolver>=1.3.1 in /srv/conda/envs/notebook/lib/python3.10/site-packages (from matplotlib->lime) (1.4.9)\n",
      "Requirement already satisfied: pyparsing>=3 in /srv/conda/envs/notebook/lib/python3.10/site-packages (from matplotlib->lime) (3.2.5)\n",
      "Requirement already satisfied: python-dateutil>=2.7 in /srv/conda/envs/notebook/lib/python3.10/site-packages (from matplotlib->lime) (2.9.0.post0)\n",
      "Requirement already satisfied: six>=1.5 in /srv/conda/envs/notebook/lib/python3.10/site-packages (from python-dateutil>=2.7->matplotlib->lime) (1.17.0)\n",
      "Requirement already satisfied: tensorflow in /srv/conda/envs/notebook/lib/python3.10/site-packages (2.20.0)\n",
      "Requirement already satisfied: absl-py>=1.0.0 in /srv/conda/envs/notebook/lib/python3.10/site-packages (from tensorflow) (2.3.1)\n",
      "Requirement already satisfied: astunparse>=1.6.0 in /srv/conda/envs/notebook/lib/python3.10/site-packages (from tensorflow) (1.6.3)\n",
      "Requirement already satisfied: flatbuffers>=24.3.25 in /srv/conda/envs/notebook/lib/python3.10/site-packages (from tensorflow) (25.9.23)\n",
      "Requirement already satisfied: gast!=0.5.0,!=0.5.1,!=0.5.2,>=0.2.1 in /srv/conda/envs/notebook/lib/python3.10/site-packages (from tensorflow) (0.6.0)\n",
      "Requirement already satisfied: google_pasta>=0.1.1 in /srv/conda/envs/notebook/lib/python3.10/site-packages (from tensorflow) (0.2.0)\n",
      "Requirement already satisfied: libclang>=13.0.0 in /srv/conda/envs/notebook/lib/python3.10/site-packages (from tensorflow) (18.1.1)\n",
      "Requirement already satisfied: opt_einsum>=2.3.2 in /srv/conda/envs/notebook/lib/python3.10/site-packages (from tensorflow) (3.4.0)\n",
      "Requirement already satisfied: packaging in /srv/conda/envs/notebook/lib/python3.10/site-packages (from tensorflow) (25.0)\n",
      "Requirement already satisfied: protobuf>=5.28.0 in /srv/conda/envs/notebook/lib/python3.10/site-packages (from tensorflow) (6.33.0)\n",
      "Requirement already satisfied: requests<3,>=2.21.0 in /srv/conda/envs/notebook/lib/python3.10/site-packages (from tensorflow) (2.32.5)\n",
      "Requirement already satisfied: setuptools in /srv/conda/envs/notebook/lib/python3.10/site-packages (from tensorflow) (80.9.0)\n",
      "Requirement already satisfied: six>=1.12.0 in /srv/conda/envs/notebook/lib/python3.10/site-packages (from tensorflow) (1.17.0)\n",
      "Requirement already satisfied: termcolor>=1.1.0 in /srv/conda/envs/notebook/lib/python3.10/site-packages (from tensorflow) (3.2.0)\n",
      "Requirement already satisfied: typing_extensions>=3.6.6 in /srv/conda/envs/notebook/lib/python3.10/site-packages (from tensorflow) (4.15.0)\n",
      "Requirement already satisfied: wrapt>=1.11.0 in /srv/conda/envs/notebook/lib/python3.10/site-packages (from tensorflow) (2.0.0)\n",
      "Requirement already satisfied: grpcio<2.0,>=1.24.3 in /srv/conda/envs/notebook/lib/python3.10/site-packages (from tensorflow) (1.76.0)\n",
      "Requirement already satisfied: tensorboard~=2.20.0 in /srv/conda/envs/notebook/lib/python3.10/site-packages (from tensorflow) (2.20.0)\n",
      "Requirement already satisfied: keras>=3.10.0 in /srv/conda/envs/notebook/lib/python3.10/site-packages (from tensorflow) (3.12.0)\n",
      "Requirement already satisfied: numpy>=1.26.0 in /srv/conda/envs/notebook/lib/python3.10/site-packages (from tensorflow) (2.2.6)\n",
      "Requirement already satisfied: h5py>=3.11.0 in /srv/conda/envs/notebook/lib/python3.10/site-packages (from tensorflow) (3.15.1)\n",
      "Requirement already satisfied: ml_dtypes<1.0.0,>=0.5.1 in /srv/conda/envs/notebook/lib/python3.10/site-packages (from tensorflow) (0.5.3)\n",
      "Requirement already satisfied: charset_normalizer<4,>=2 in /srv/conda/envs/notebook/lib/python3.10/site-packages (from requests<3,>=2.21.0->tensorflow) (3.4.4)\n",
      "Requirement already satisfied: idna<4,>=2.5 in /srv/conda/envs/notebook/lib/python3.10/site-packages (from requests<3,>=2.21.0->tensorflow) (3.11)\n",
      "Requirement already satisfied: urllib3<3,>=1.21.1 in /srv/conda/envs/notebook/lib/python3.10/site-packages (from requests<3,>=2.21.0->tensorflow) (2.5.0)\n",
      "Requirement already satisfied: certifi>=2017.4.17 in /srv/conda/envs/notebook/lib/python3.10/site-packages (from requests<3,>=2.21.0->tensorflow) (2025.10.5)\n",
      "Requirement already satisfied: markdown>=2.6.8 in /srv/conda/envs/notebook/lib/python3.10/site-packages (from tensorboard~=2.20.0->tensorflow) (3.9)\n",
      "Requirement already satisfied: pillow in /srv/conda/envs/notebook/lib/python3.10/site-packages (from tensorboard~=2.20.0->tensorflow) (12.0.0)\n",
      "Requirement already satisfied: tensorboard-data-server<0.8.0,>=0.7.0 in /srv/conda/envs/notebook/lib/python3.10/site-packages (from tensorboard~=2.20.0->tensorflow) (0.7.2)\n",
      "Requirement already satisfied: werkzeug>=1.0.1 in /srv/conda/envs/notebook/lib/python3.10/site-packages (from tensorboard~=2.20.0->tensorflow) (3.1.3)\n",
      "Requirement already satisfied: wheel<1.0,>=0.23.0 in /srv/conda/envs/notebook/lib/python3.10/site-packages (from astunparse>=1.6.0->tensorflow) (0.45.1)\n",
      "Requirement already satisfied: rich in /srv/conda/envs/notebook/lib/python3.10/site-packages (from keras>=3.10.0->tensorflow) (14.2.0)\n",
      "Requirement already satisfied: namex in /srv/conda/envs/notebook/lib/python3.10/site-packages (from keras>=3.10.0->tensorflow) (0.1.0)\n",
      "Requirement already satisfied: optree in /srv/conda/envs/notebook/lib/python3.10/site-packages (from keras>=3.10.0->tensorflow) (0.17.0)\n",
      "Requirement already satisfied: MarkupSafe>=2.1.1 in /srv/conda/envs/notebook/lib/python3.10/site-packages (from werkzeug>=1.0.1->tensorboard~=2.20.0->tensorflow) (3.0.3)\n",
      "Requirement already satisfied: markdown-it-py>=2.2.0 in /srv/conda/envs/notebook/lib/python3.10/site-packages (from rich->keras>=3.10.0->tensorflow) (4.0.0)\n",
      "Requirement already satisfied: pygments<3.0.0,>=2.13.0 in /srv/conda/envs/notebook/lib/python3.10/site-packages (from rich->keras>=3.10.0->tensorflow) (2.19.2)\n",
      "Requirement already satisfied: mdurl~=0.1 in /srv/conda/envs/notebook/lib/python3.10/site-packages (from markdown-it-py>=2.2.0->rich->keras>=3.10.0->tensorflow) (0.1.2)\n"
     ]
    },
    {
     "name": "stderr",
     "output_type": "stream",
     "text": [
      "2025-10-29 15:21:14.591019: I external/local_xla/xla/tsl/cuda/cudart_stub.cc:31] Could not find cuda drivers on your machine, GPU will not be used.\n",
      "2025-10-29 15:21:14.668639: I tensorflow/core/platform/cpu_feature_guard.cc:210] This TensorFlow binary is optimized to use available CPU instructions in performance-critical operations.\n",
      "To enable the following instructions: AVX2 FMA, in other operations, rebuild TensorFlow with the appropriate compiler flags.\n",
      "2025-10-29 15:21:17.173697: I external/local_xla/xla/tsl/cuda/cudart_stub.cc:31] Could not find cuda drivers on your machine, GPU will not be used.\n"
     ]
    }
   ],
   "source": [
    "# Installa le librerie necessarie\n",
    "!pip install pandas\n",
    "!pip install numpy\n",
    "!pip install scikit-learn\n",
    "!pip install Pillow\n",
    "!pip install lime\n",
    "!pip install tensorflow\n",
    "\n",
    "# Importa le librerie\n",
    "import os\n",
    "import numpy as np\n",
    "import pandas as pd\n",
    "from PIL import Image\n",
    "from sklearn.cluster import KMeans\n",
    "from tensorflow.keras.applications.vgg16 import VGG16, preprocess_input\n",
    "from tensorflow.keras.models import Model\n",
    "import matplotlib.pyplot as plt"
   ]
  },
  {
   "cell_type": "code",
   "execution_count": 2,
   "metadata": {},
   "outputs": [
    {
     "name": "stdout",
     "output_type": "stream",
     "text": [
      "Cartella opere estratta correttamente.\n"
     ]
    }
   ],
   "source": [
    "import zipfile\n",
    "\n",
    "# Percorso del file zip\n",
    "zip_path = \"./opere.zip\"\n",
    "\n",
    "# Percorso di estrazione\n",
    "extract_path = \"./opere\"\n",
    "\n",
    "# Estrai il contenuto\n",
    "with zipfile.ZipFile(zip_path, 'r') as zip_ref:\n",
    "    zip_ref.extractall(extract_path)\n",
    "\n",
    "print(\"Cartella opere estratta correttamente.\")"
   ]
  },
  {
   "cell_type": "code",
   "execution_count": 3,
   "metadata": {},
   "outputs": [],
   "source": [
    "# Percorso locale alla cartella immagini\n",
    "IMAGE_DIR = \"./opere/opere\"\n",
    "TARGET_SIZE = (224, 224)  # Dimensione standard per VGG16"
   ]
  },
  {
   "cell_type": "code",
   "execution_count": 4,
   "metadata": {},
   "outputs": [
    {
     "name": "stdout",
     "output_type": "stream",
     "text": [
      "File trovati nella cartella opere:\n",
      "['23278.jpg', '32054.jpg', '17014.jpg', '15673.jpg', '79806.jpg']\n"
     ]
    }
   ],
   "source": [
    "import os\n",
    "\n",
    "# Stampa i primi 5 file trovati nella cartella\n",
    "print(\"File trovati nella cartella opere:\")\n",
    "print(os.listdir(IMAGE_DIR)[:5])"
   ]
  },
  {
   "cell_type": "code",
   "execution_count": 5,
   "metadata": {},
   "outputs": [
    {
     "name": "stderr",
     "output_type": "stream",
     "text": [
      "2025-10-29 15:21:18.325920: E external/local_xla/xla/stream_executor/cuda/cuda_platform.cc:51] failed call to cuInit: INTERNAL: CUDA error: Failed call to cuInit: UNKNOWN ERROR (303)\n"
     ]
    }
   ],
   "source": [
    "# Carica il modello VGG16 pre-addestrato\n",
    "base_model = VGG16(weights='imagenet', include_top=False)\n",
    "\n",
    "# Estrazione delle feature dallo strato 'block5_pool'\n",
    "model = Model(inputs=base_model.input, outputs=base_model.get_layer('block5_pool').output)"
   ]
  },
  {
   "cell_type": "code",
   "execution_count": 6,
   "metadata": {},
   "outputs": [],
   "source": [
    "def extract_features(img_path, model):\n",
    "    try:\n",
    "        img = Image.open(img_path).resize(TARGET_SIZE)\n",
    "        img_array = np.array(img)\n",
    "        img_array = np.expand_dims(img_array, axis=0)\n",
    "        img_array = preprocess_input(img_array)\n",
    "        features = model.predict(img_array, verbose=0)\n",
    "        features = features.mean(axis=(1, 2)).flatten()\n",
    "        return features\n",
    "    except Exception as e:\n",
    "        print(f\"Errore con {img_path}: {e}\")\n",
    "        return None\n"
   ]
  },
  {
   "cell_type": "code",
   "execution_count": null,
   "metadata": {},
   "outputs": [
    {
     "name": "stdout",
     "output_type": "stream",
     "text": [
      "Inizio estrazione delle feature...\n",
      "100 immagini elaborate...\n",
      "200 immagini elaborate...\n",
      "300 immagini elaborate...\n",
      "400 immagini elaborate...\n",
      "500 immagini elaborate...\n"
     ]
    }
   ],
   "source": [
    "all_features = []\n",
    "image_filenames = []\n",
    "\n",
    "print(\"Inizio estrazione delle feature...\")\n",
    "\n",
    "counter = 0  # contatore immagini elaborate\n",
    "\n",
    "for filename in os.listdir(IMAGE_DIR):\n",
    "    if filename.lower().endswith(('.png', '.jpg', '.jpeg')):\n",
    "        file_path = os.path.join(IMAGE_DIR, filename)\n",
    "        features = extract_features(file_path, model)\n",
    "        if features is not None:\n",
    "            all_features.append(features)\n",
    "            image_filenames.append(filename)\n",
    "            counter += 1\n",
    "\n",
    "            # Messaggio ogni 100 immagini\n",
    "            if counter % 100 == 0:\n",
    "                print(f\"{counter} immagini elaborate...\")\n",
    "\n",
    "# Conversione finale in matrice\n",
    "feature_matrix = np.array(all_features)\n",
    "\n",
    "print(f\"\\nEstrazione completata: {len(image_filenames)} immagini.\")\n",
    "print(f\"Dimensione matrice delle feature: {feature_matrix.shape}\")"
   ]
  },
  {
   "cell_type": "code",
   "execution_count": null,
   "metadata": {},
   "outputs": [],
   "source": [
    "K = 5  # Numero di cluster\n",
    "print(f\"Inizio clustering con K = {K}...\")\n",
    "\n",
    "kmeans_model = KMeans(n_clusters=K, random_state=42, n_init=10)\n",
    "cluster_labels = kmeans_model.fit_predict(feature_matrix)\n",
    "\n",
    "print(\"Clustering completato.\")"
   ]
  },
  {
   "cell_type": "code",
   "execution_count": null,
   "metadata": {},
   "outputs": [],
   "source": [
    "results_df = pd.DataFrame({\n",
    "    'Filename': image_filenames,\n",
    "    'Cluster': cluster_labels\n",
    "})\n",
    "\n",
    "print(\"Distribuzione dei cluster:\")\n",
    "print(results_df['Cluster'].value_counts())\n",
    "\n",
    "# Visualizza le prime 5 immagini di un cluster\n",
    "cluster_id_to_show = 0\n",
    "cluster_images = results_df[results_df['Cluster'] == cluster_id_to_show]['Filename'].tolist()\n",
    "\n",
    "fig, axes = plt.subplots(1, min(5, len(cluster_images)), figsize=(15, 5))\n",
    "fig.suptitle(f\"Cluster {cluster_id_to_show}\", fontsize=16)\n",
    "\n",
    "for i, filename in enumerate(cluster_images[:5]):\n",
    "    img_path = os.path.join(IMAGE_DIR, filename)\n",
    "    img = Image.open(img_path)\n",
    "    axes[i].imshow(img)\n",
    "    axes[i].set_title(filename[:15] + '...')\n",
    "    axes[i].axis('off')\n",
    "\n",
    "plt.show()"
   ]
  }
 ],
 "metadata": {
  "colab": {
   "name": "Ti diamo il benvenuto in Colab",
   "provenance": [],
   "toc_visible": true
  },
  "kernelspec": {
   "display_name": "Python 3 (ipykernel)",
   "language": "python",
   "name": "python3"
  },
  "language_info": {
   "codemirror_mode": {
    "name": "ipython",
    "version": 3
   },
   "file_extension": ".py",
   "mimetype": "text/x-python",
   "name": "python",
   "nbconvert_exporter": "python",
   "pygments_lexer": "ipython3",
   "version": "3.10.19"
  }
 },
 "nbformat": 4,
 "nbformat_minor": 4
}
