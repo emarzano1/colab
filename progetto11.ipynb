{
  "cells": [
    {
      "cell_type": "code",
      "execution_count": 1,
      "metadata": {
        "id": "XZhLnaWPaXSL",
        "outputId": "378ec2ae-e1b7-4d5f-98e5-22c110188edf",
        "colab": {
          "base_uri": "https://localhost:8080/"
        }
      },
      "outputs": [
        {
          "output_type": "stream",
          "name": "stdout",
          "text": [
            "Requirement already satisfied: pandas in /usr/local/lib/python3.12/dist-packages (2.2.2)\n",
            "Requirement already satisfied: numpy>=1.26.0 in /usr/local/lib/python3.12/dist-packages (from pandas) (2.0.2)\n",
            "Requirement already satisfied: python-dateutil>=2.8.2 in /usr/local/lib/python3.12/dist-packages (from pandas) (2.9.0.post0)\n",
            "Requirement already satisfied: pytz>=2020.1 in /usr/local/lib/python3.12/dist-packages (from pandas) (2025.2)\n",
            "Requirement already satisfied: tzdata>=2022.7 in /usr/local/lib/python3.12/dist-packages (from pandas) (2025.2)\n",
            "Requirement already satisfied: six>=1.5 in /usr/local/lib/python3.12/dist-packages (from python-dateutil>=2.8.2->pandas) (1.17.0)\n",
            "Requirement already satisfied: numpy in /usr/local/lib/python3.12/dist-packages (2.0.2)\n",
            "Requirement already satisfied: scikit-learn in /usr/local/lib/python3.12/dist-packages (1.6.1)\n",
            "Requirement already satisfied: numpy>=1.19.5 in /usr/local/lib/python3.12/dist-packages (from scikit-learn) (2.0.2)\n",
            "Requirement already satisfied: scipy>=1.6.0 in /usr/local/lib/python3.12/dist-packages (from scikit-learn) (1.16.2)\n",
            "Requirement already satisfied: joblib>=1.2.0 in /usr/local/lib/python3.12/dist-packages (from scikit-learn) (1.5.2)\n",
            "Requirement already satisfied: threadpoolctl>=3.1.0 in /usr/local/lib/python3.12/dist-packages (from scikit-learn) (3.6.0)\n",
            "Requirement already satisfied: Pillow in /usr/local/lib/python3.12/dist-packages (11.3.0)\n",
            "Collecting lime\n",
            "  Downloading lime-0.2.0.1.tar.gz (275 kB)\n",
            "\u001b[2K     \u001b[90m━━━━━━━━━━━━━━━━━━━━━━━━━━━━━━━━━━━━━━\u001b[0m \u001b[32m275.7/275.7 kB\u001b[0m \u001b[31m16.1 MB/s\u001b[0m eta \u001b[36m0:00:00\u001b[0m\n",
            "\u001b[?25h  Preparing metadata (setup.py) ... \u001b[?25l\u001b[?25hdone\n",
            "Requirement already satisfied: matplotlib in /usr/local/lib/python3.12/dist-packages (from lime) (3.10.0)\n",
            "Requirement already satisfied: numpy in /usr/local/lib/python3.12/dist-packages (from lime) (2.0.2)\n",
            "Requirement already satisfied: scipy in /usr/local/lib/python3.12/dist-packages (from lime) (1.16.2)\n",
            "Requirement already satisfied: tqdm in /usr/local/lib/python3.12/dist-packages (from lime) (4.67.1)\n",
            "Requirement already satisfied: scikit-learn>=0.18 in /usr/local/lib/python3.12/dist-packages (from lime) (1.6.1)\n",
            "Requirement already satisfied: scikit-image>=0.12 in /usr/local/lib/python3.12/dist-packages (from lime) (0.25.2)\n",
            "Requirement already satisfied: networkx>=3.0 in /usr/local/lib/python3.12/dist-packages (from scikit-image>=0.12->lime) (3.5)\n",
            "Requirement already satisfied: pillow>=10.1 in /usr/local/lib/python3.12/dist-packages (from scikit-image>=0.12->lime) (11.3.0)\n",
            "Requirement already satisfied: imageio!=2.35.0,>=2.33 in /usr/local/lib/python3.12/dist-packages (from scikit-image>=0.12->lime) (2.37.0)\n",
            "Requirement already satisfied: tifffile>=2022.8.12 in /usr/local/lib/python3.12/dist-packages (from scikit-image>=0.12->lime) (2025.10.16)\n",
            "Requirement already satisfied: packaging>=21 in /usr/local/lib/python3.12/dist-packages (from scikit-image>=0.12->lime) (25.0)\n",
            "Requirement already satisfied: lazy-loader>=0.4 in /usr/local/lib/python3.12/dist-packages (from scikit-image>=0.12->lime) (0.4)\n",
            "Requirement already satisfied: joblib>=1.2.0 in /usr/local/lib/python3.12/dist-packages (from scikit-learn>=0.18->lime) (1.5.2)\n",
            "Requirement already satisfied: threadpoolctl>=3.1.0 in /usr/local/lib/python3.12/dist-packages (from scikit-learn>=0.18->lime) (3.6.0)\n",
            "Requirement already satisfied: contourpy>=1.0.1 in /usr/local/lib/python3.12/dist-packages (from matplotlib->lime) (1.3.3)\n",
            "Requirement already satisfied: cycler>=0.10 in /usr/local/lib/python3.12/dist-packages (from matplotlib->lime) (0.12.1)\n",
            "Requirement already satisfied: fonttools>=4.22.0 in /usr/local/lib/python3.12/dist-packages (from matplotlib->lime) (4.60.1)\n",
            "Requirement already satisfied: kiwisolver>=1.3.1 in /usr/local/lib/python3.12/dist-packages (from matplotlib->lime) (1.4.9)\n",
            "Requirement already satisfied: pyparsing>=2.3.1 in /usr/local/lib/python3.12/dist-packages (from matplotlib->lime) (3.2.5)\n",
            "Requirement already satisfied: python-dateutil>=2.7 in /usr/local/lib/python3.12/dist-packages (from matplotlib->lime) (2.9.0.post0)\n",
            "Requirement already satisfied: six>=1.5 in /usr/local/lib/python3.12/dist-packages (from python-dateutil>=2.7->matplotlib->lime) (1.17.0)\n",
            "Building wheels for collected packages: lime\n",
            "  Building wheel for lime (setup.py) ... \u001b[?25l\u001b[?25hdone\n",
            "  Created wheel for lime: filename=lime-0.2.0.1-py3-none-any.whl size=283834 sha256=b90c0f80096642f3aedfcc26389601e8713ede0e559cdacf900e01c754825758\n",
            "  Stored in directory: /root/.cache/pip/wheels/e7/5d/0e/4b4fff9a47468fed5633211fb3b76d1db43fe806a17fb7486a\n",
            "Successfully built lime\n",
            "Installing collected packages: lime\n",
            "Successfully installed lime-0.2.0.1\n",
            "Requirement already satisfied: tensorflow in /usr/local/lib/python3.12/dist-packages (2.19.0)\n",
            "Requirement already satisfied: absl-py>=1.0.0 in /usr/local/lib/python3.12/dist-packages (from tensorflow) (1.4.0)\n",
            "Requirement already satisfied: astunparse>=1.6.0 in /usr/local/lib/python3.12/dist-packages (from tensorflow) (1.6.3)\n",
            "Requirement already satisfied: flatbuffers>=24.3.25 in /usr/local/lib/python3.12/dist-packages (from tensorflow) (25.9.23)\n",
            "Requirement already satisfied: gast!=0.5.0,!=0.5.1,!=0.5.2,>=0.2.1 in /usr/local/lib/python3.12/dist-packages (from tensorflow) (0.6.0)\n",
            "Requirement already satisfied: google-pasta>=0.1.1 in /usr/local/lib/python3.12/dist-packages (from tensorflow) (0.2.0)\n",
            "Requirement already satisfied: libclang>=13.0.0 in /usr/local/lib/python3.12/dist-packages (from tensorflow) (18.1.1)\n",
            "Requirement already satisfied: opt-einsum>=2.3.2 in /usr/local/lib/python3.12/dist-packages (from tensorflow) (3.4.0)\n",
            "Requirement already satisfied: packaging in /usr/local/lib/python3.12/dist-packages (from tensorflow) (25.0)\n",
            "Requirement already satisfied: protobuf!=4.21.0,!=4.21.1,!=4.21.2,!=4.21.3,!=4.21.4,!=4.21.5,<6.0.0dev,>=3.20.3 in /usr/local/lib/python3.12/dist-packages (from tensorflow) (5.29.5)\n",
            "Requirement already satisfied: requests<3,>=2.21.0 in /usr/local/lib/python3.12/dist-packages (from tensorflow) (2.32.4)\n",
            "Requirement already satisfied: setuptools in /usr/local/lib/python3.12/dist-packages (from tensorflow) (75.2.0)\n",
            "Requirement already satisfied: six>=1.12.0 in /usr/local/lib/python3.12/dist-packages (from tensorflow) (1.17.0)\n",
            "Requirement already satisfied: termcolor>=1.1.0 in /usr/local/lib/python3.12/dist-packages (from tensorflow) (3.1.0)\n",
            "Requirement already satisfied: typing-extensions>=3.6.6 in /usr/local/lib/python3.12/dist-packages (from tensorflow) (4.15.0)\n",
            "Requirement already satisfied: wrapt>=1.11.0 in /usr/local/lib/python3.12/dist-packages (from tensorflow) (2.0.0)\n",
            "Requirement already satisfied: grpcio<2.0,>=1.24.3 in /usr/local/lib/python3.12/dist-packages (from tensorflow) (1.76.0)\n",
            "Requirement already satisfied: tensorboard~=2.19.0 in /usr/local/lib/python3.12/dist-packages (from tensorflow) (2.19.0)\n",
            "Requirement already satisfied: keras>=3.5.0 in /usr/local/lib/python3.12/dist-packages (from tensorflow) (3.10.0)\n",
            "Requirement already satisfied: numpy<2.2.0,>=1.26.0 in /usr/local/lib/python3.12/dist-packages (from tensorflow) (2.0.2)\n",
            "Requirement already satisfied: h5py>=3.11.0 in /usr/local/lib/python3.12/dist-packages (from tensorflow) (3.15.1)\n",
            "Requirement already satisfied: ml-dtypes<1.0.0,>=0.5.1 in /usr/local/lib/python3.12/dist-packages (from tensorflow) (0.5.3)\n",
            "Requirement already satisfied: wheel<1.0,>=0.23.0 in /usr/local/lib/python3.12/dist-packages (from astunparse>=1.6.0->tensorflow) (0.45.1)\n",
            "Requirement already satisfied: rich in /usr/local/lib/python3.12/dist-packages (from keras>=3.5.0->tensorflow) (13.9.4)\n",
            "Requirement already satisfied: namex in /usr/local/lib/python3.12/dist-packages (from keras>=3.5.0->tensorflow) (0.1.0)\n",
            "Requirement already satisfied: optree in /usr/local/lib/python3.12/dist-packages (from keras>=3.5.0->tensorflow) (0.17.0)\n",
            "Requirement already satisfied: charset_normalizer<4,>=2 in /usr/local/lib/python3.12/dist-packages (from requests<3,>=2.21.0->tensorflow) (3.4.4)\n",
            "Requirement already satisfied: idna<4,>=2.5 in /usr/local/lib/python3.12/dist-packages (from requests<3,>=2.21.0->tensorflow) (3.11)\n",
            "Requirement already satisfied: urllib3<3,>=1.21.1 in /usr/local/lib/python3.12/dist-packages (from requests<3,>=2.21.0->tensorflow) (2.5.0)\n",
            "Requirement already satisfied: certifi>=2017.4.17 in /usr/local/lib/python3.12/dist-packages (from requests<3,>=2.21.0->tensorflow) (2025.10.5)\n",
            "Requirement already satisfied: markdown>=2.6.8 in /usr/local/lib/python3.12/dist-packages (from tensorboard~=2.19.0->tensorflow) (3.9)\n",
            "Requirement already satisfied: tensorboard-data-server<0.8.0,>=0.7.0 in /usr/local/lib/python3.12/dist-packages (from tensorboard~=2.19.0->tensorflow) (0.7.2)\n",
            "Requirement already satisfied: werkzeug>=1.0.1 in /usr/local/lib/python3.12/dist-packages (from tensorboard~=2.19.0->tensorflow) (3.1.3)\n",
            "Requirement already satisfied: MarkupSafe>=2.1.1 in /usr/local/lib/python3.12/dist-packages (from werkzeug>=1.0.1->tensorboard~=2.19.0->tensorflow) (3.0.3)\n",
            "Requirement already satisfied: markdown-it-py>=2.2.0 in /usr/local/lib/python3.12/dist-packages (from rich->keras>=3.5.0->tensorflow) (4.0.0)\n",
            "Requirement already satisfied: pygments<3.0.0,>=2.13.0 in /usr/local/lib/python3.12/dist-packages (from rich->keras>=3.5.0->tensorflow) (2.19.2)\n",
            "Requirement already satisfied: mdurl~=0.1 in /usr/local/lib/python3.12/dist-packages (from markdown-it-py>=2.2.0->rich->keras>=3.5.0->tensorflow) (0.1.2)\n"
          ]
        }
      ],
      "source": [
        "# Importa le librerie\n",
        "import os\n",
        "import numpy as np\n",
        "import pandas as pd\n",
        "from PIL import Image\n",
        "from sklearn.cluster import KMeans\n",
        "from tensorflow.keras.applications.vgg16 import VGG16, preprocess_input\n",
        "from tensorflow.keras.models import Model\n",
        "import matplotlib.pyplot as plt"
      ]
    },
    {
      "cell_type": "code",
      "source": [
        "# Se esiste il file salvato, carica le feature\n",
        "if os.path.exists(\"feature_matrix.npy\"):\n",
        "    feature_matrix = np.load(\"feature_matrix.npy\")\n",
        "    print(\"✅ Feature caricate:\", feature_matrix.shape)\n",
        "else:\n",
        "    print(\"⚠️ Nessun file .npy trovato, verranno rielaborate le immagini.\")"
      ],
      "metadata": {
        "id": "KCnd34zfgmiE"
      },
      "execution_count": null,
      "outputs": []
    },
    {
      "cell_type": "code",
      "source": [
        "from google.colab import files\n",
        "uploaded = files.upload()"
      ],
      "metadata": {
        "id": "AssL92awjd_D"
      },
      "execution_count": null,
      "outputs": []
    },
    {
      "cell_type": "code",
      "execution_count": 3,
      "metadata": {
        "id": "Op9jfP9jaXSO",
        "outputId": "551653cf-8bfb-4725-98ce-975969236a9c",
        "colab": {
          "base_uri": "https://localhost:8080/"
        }
      },
      "outputs": [
        {
          "output_type": "stream",
          "name": "stdout",
          "text": [
            "Cartella opere estratta correttamente.\n"
          ]
        }
      ],
      "source": [
        "import zipfile\n",
        "\n",
        "# Percorso del file zip\n",
        "zip_path = \"/opere.zip\"\n",
        "\n",
        "# Percorso di estrazione\n",
        "extract_path = \"./opere\"\n",
        "\n",
        "# Estrai il contenuto\n",
        "with zipfile.ZipFile(zip_path, 'r') as zip_ref:\n",
        "    zip_ref.extractall(extract_path)\n",
        "\n",
        "print(\"Cartella opere estratta correttamente.\")"
      ]
    },
    {
      "cell_type": "code",
      "execution_count": 4,
      "metadata": {
        "id": "uAMGgJ8ZaXSP"
      },
      "outputs": [],
      "source": [
        "# Percorso locale alla cartella immagini\n",
        "IMAGE_DIR = \"./opere\"\n",
        "TARGET_SIZE = (224, 224)  # Dimensione standard per VGG16"
      ]
    },
    {
      "cell_type": "code",
      "execution_count": 5,
      "metadata": {
        "id": "L5fVrB_RaXSQ",
        "outputId": "7ceb6e59-a8ac-46c8-fe89-02a98fcdea84",
        "colab": {
          "base_uri": "https://localhost:8080/"
        }
      },
      "outputs": [
        {
          "output_type": "stream",
          "name": "stdout",
          "text": [
            "File trovati nella cartella opere:\n",
            "['37344.jpg', '47446.jpg', '100474.jpg', '7768.jpg', '32561.jpg']\n"
          ]
        }
      ],
      "source": [
        "import os\n",
        "\n",
        "# Stampa i primi 5 file trovati nella cartella\n",
        "print(\"File trovati nella cartella opere:\")\n",
        "print(os.listdir(IMAGE_DIR)[:5])"
      ]
    },
    {
      "cell_type": "code",
      "execution_count": 6,
      "metadata": {
        "id": "dU5M---JaXSR",
        "outputId": "b2a7ea77-6bea-4eff-dd36-97aa5e9aad66",
        "colab": {
          "base_uri": "https://localhost:8080/"
        }
      },
      "outputs": [
        {
          "output_type": "stream",
          "name": "stdout",
          "text": [
            "Downloading data from https://storage.googleapis.com/tensorflow/keras-applications/vgg16/vgg16_weights_tf_dim_ordering_tf_kernels_notop.h5\n",
            "\u001b[1m58889256/58889256\u001b[0m \u001b[32m━━━━━━━━━━━━━━━━━━━━\u001b[0m\u001b[37m\u001b[0m \u001b[1m0s\u001b[0m 0us/step\n"
          ]
        }
      ],
      "source": [
        "# Carica il modello VGG16 pre-addestrato\n",
        "base_model = VGG16(weights='imagenet', include_top=False)\n",
        "\n",
        "# Estrazione delle feature dallo strato 'block5_pool'\n",
        "model = Model(inputs=base_model.input, outputs=base_model.get_layer('block5_pool').output)"
      ]
    },
    {
      "cell_type": "code",
      "execution_count": 7,
      "metadata": {
        "id": "xgMoYmYDaXSS"
      },
      "outputs": [],
      "source": [
        "def extract_features(img_path, model):\n",
        "    try:\n",
        "        img = Image.open(img_path).resize(TARGET_SIZE)\n",
        "        img_array = np.array(img)\n",
        "        img_array = np.expand_dims(img_array, axis=0)\n",
        "        img_array = preprocess_input(img_array)\n",
        "        features = model.predict(img_array, verbose=0)\n",
        "        features = features.mean(axis=(1, 2)).flatten()\n",
        "        return features\n",
        "    except Exception as e:\n",
        "        print(f\"Errore con {img_path}: {e}\")\n",
        "        return None\n"
      ]
    },
    {
      "cell_type": "code",
      "execution_count": 8,
      "metadata": {
        "id": "sT0YTRTgaXSS",
        "outputId": "1216524e-2104-4256-fdd0-64c7f1b152e6",
        "colab": {
          "base_uri": "https://localhost:8080/"
        }
      },
      "outputs": [
        {
          "output_type": "stream",
          "name": "stdout",
          "text": [
            "Inizio estrazione delle feature...\n",
            "100 immagini elaborate...\n",
            "200 immagini elaborate...\n",
            "300 immagini elaborate...\n",
            "400 immagini elaborate...\n",
            "500 immagini elaborate...\n",
            "600 immagini elaborate...\n",
            "700 immagini elaborate...\n",
            "800 immagini elaborate...\n",
            "900 immagini elaborate...\n",
            "1000 immagini elaborate...\n",
            "\n",
            "Estrazione completata: 1000 immagini.\n",
            "Dimensione matrice delle feature: (1000, 512)\n"
          ]
        }
      ],
      "source": [
        "all_features = []\n",
        "image_filenames = []\n",
        "\n",
        "print(\"Inizio estrazione delle feature...\")\n",
        "\n",
        "counter = 0  # contatore immagini elaborate\n",
        "\n",
        "for filename in os.listdir(IMAGE_DIR):\n",
        "    if filename.lower().endswith(('.png', '.jpg', '.jpeg')):\n",
        "        file_path = os.path.join(IMAGE_DIR, filename)\n",
        "        features = extract_features(file_path, model)\n",
        "        if features is not None:\n",
        "            all_features.append(features)\n",
        "            image_filenames.append(filename)\n",
        "            counter += 1\n",
        "\n",
        "            # Messaggio ogni 100 immagini\n",
        "            if counter % 100 == 0:\n",
        "                print(f\"{counter} immagini elaborate...\")\n",
        "\n",
        "# Conversione finale in matrice\n",
        "feature_matrix = np.array(all_features)\n",
        "\n",
        "print(f\"\\nEstrazione completata: {len(image_filenames)} immagini.\")\n",
        "print(f\"Dimensione matrice delle feature: {feature_matrix.shape}\")"
      ]
    },
    {
      "cell_type": "code",
      "source": [
        "np.save(\"feature_matrix.npy\", feature_matrix)\n",
        "print(\"✅ Feature salvate in feature_matrix.npy\")"
      ],
      "metadata": {
        "id": "fGjWqLIJckiZ"
      },
      "execution_count": null,
      "outputs": []
    },
    {
      "cell_type": "code",
      "execution_count": null,
      "metadata": {
        "id": "0xBn4LVdaXST"
      },
      "outputs": [],
      "source": [
        "from sklearn.cluster import KMeans\n",
        "import pandas as pd\n",
        "\n",
        "K = 5  # Numero di cluster\n",
        "print(f\"Inizio clustering con K = {K}...\")\n",
        "\n",
        "kmeans = KMeans(n_clusters=K, random_state=42, n_init=10)\n",
        "cluster_labels = kmeans.fit_predict(feature_matrix)\n",
        "\n",
        "print(\"Clustering completato.\")\n",
        "\n",
        "# Salva i risultati in un file CSV\n",
        "results_df = pd.DataFrame({\n",
        "    'Filename': image_filenames,\n",
        "    'Cluster': cluster_labels\n",
        "})\n",
        "results_df.to_csv(\"cluster_results.csv\", index=False)\n",
        "print(\"✅ Risultati salvati in cluster_results.csv\")\n"
      ]
    },
    {
      "cell_type": "code",
      "execution_count": null,
      "metadata": {
        "id": "AFoEtlq0aXSU"
      },
      "outputs": [],
      "source": [
        "results_df = pd.DataFrame({\n",
        "    'Filename': image_filenames,\n",
        "    'Cluster': cluster_labels\n",
        "})\n",
        "\n",
        "print(\"Distribuzione dei cluster:\")\n",
        "print(results_df['Cluster'].value_counts())\n",
        "\n",
        "# 📊 Visualizzazione della distribuzione dei cluster\n",
        "results_df['Cluster'].value_counts().sort_index().plot(kind='bar', color='skyblue')\n",
        "plt.title(\"Distribuzione delle opere nei cluster\")\n",
        "plt.xlabel(\"Cluster\")\n",
        "plt.ylabel(\"Numero di immagini\")\n",
        "plt.grid(True)\n",
        "plt.show()\n",
        "\n",
        "\n",
        "# Visualizza le prime 5 immagini di un cluster\n",
        "cluster_id_to_show = 0\n",
        "cluster_images = results_df[results_df['Cluster'] == cluster_id_to_show]['Filename'].tolist()\n",
        "\n",
        "fig, axes = plt.subplots(1, min(5, len(cluster_images)), figsize=(15, 5))\n",
        "fig.suptitle(f\"Cluster {cluster_id_to_show}\", fontsize=16)\n",
        "\n",
        "for i, filename in enumerate(cluster_images[:5]):\n",
        "    img_path = os.path.join(IMAGE_DIR, filename)\n",
        "    img = Image.open(img_path)\n",
        "    axes[i].imshow(img)\n",
        "    axes[i].set_title(filename[:15] + '...')\n",
        "    axes[i].axis('off')\n",
        "\n",
        "plt.show()"
      ]
    },
    {
      "cell_type": "code",
      "source": [
        "# Seleziona un cluster\n",
        "cluster_id = 0\n",
        "\n",
        "# Prendi le prime due immagini di quel cluster\n",
        "selected_images = results_df[results_df['Cluster'] == cluster_id]['Filename'].tolist()[:2]\n",
        "\n",
        "# Percorsi completi\n",
        "img1_path = os.path.join(IMAGE_DIR, selected_images[0])\n",
        "img2_path = os.path.join(IMAGE_DIR, selected_images[1])\n"
      ],
      "metadata": {
        "id": "PBAxoBMvdUPX"
      },
      "execution_count": null,
      "outputs": []
    },
    {
      "cell_type": "code",
      "source": [
        "from lime import lime_image\n",
        "from skimage.segmentation import mark_boundaries\n",
        "\n",
        "# Inizializza LIME per immagini\n",
        "explainer = lime_image.LimeImageExplainer()\n"
      ],
      "metadata": {
        "id": "epfZzrZudU9S"
      },
      "execution_count": null,
      "outputs": []
    },
    {
      "cell_type": "code",
      "source": [
        "def predict_fn(images):\n",
        "    images = preprocess_input(images)\n",
        "    preds = model.predict(images)\n",
        "    # Simuliamo una classificazione fittizia sommando le feature\n",
        "    return np.array([np.sum(p) for p in preds]).reshape(-1, 1)\n"
      ],
      "metadata": {
        "id": "R7frbCYRdYXb"
      },
      "execution_count": null,
      "outputs": []
    },
    {
      "cell_type": "code",
      "source": [
        "from skimage.io import imread\n",
        "\n",
        "# Carica l'immagine\n",
        "img = imread(img1_path)\n",
        "\n",
        "# Applica LIME\n",
        "explanation = explainer.explain_instance(img, predict_fn, top_labels=1, hide_color=0, num_samples=1000)\n",
        "\n",
        "# Visualizza la mappa\n",
        "temp, mask = explanation.get_image_and_mask(\n",
        "    label=explanation.top_labels[0],\n",
        "    positive_only=True,\n",
        "    hide_rest=False,\n",
        "    num_features=5,\n",
        "    min_weight=0.1\n",
        ")\n",
        "\n",
        "plt.imshow(mark_boundaries(temp, mask))\n",
        "plt.title(f\"Zone rilevanti in {selected_images[0]}\")\n",
        "plt.axis('off')\n",
        "plt.show()\n"
      ],
      "metadata": {
        "id": "kgeNHzzFdbeB"
      },
      "execution_count": null,
      "outputs": []
    },
    {
      "cell_type": "code",
      "source": [
        "img = imread(img2_path)\n",
        "\n",
        "explanation = explainer.explain_instance(img, predict_fn, top_labels=1, hide_color=0, num_samples=1000)\n",
        "\n",
        "temp, mask = explanation.get_image_and_mask(\n",
        "    label=explanation.top_labels[0],\n",
        "    positive_only=True,\n",
        "    hide_rest=False,\n",
        "    num_features=5,\n",
        "    min_weight=0.1\n",
        ")\n",
        "\n",
        "plt.imshow(mark_boundaries(temp, mask))\n",
        "plt.title(f\"Zone rilevanti in {selected_images[1]}\")\n",
        "plt.axis('off')\n",
        "plt.show()\n"
      ],
      "metadata": {
        "id": "wY4MchAidlzl"
      },
      "execution_count": null,
      "outputs": []
    }
  ],
  "metadata": {
    "colab": {
      "name": "Ti diamo il benvenuto in Colab",
      "provenance": []
    },
    "kernelspec": {
      "display_name": "Python 3 (ipykernel)",
      "language": "python",
      "name": "python3"
    },
    "language_info": {
      "codemirror_mode": {
        "name": "ipython",
        "version": 3
      },
      "file_extension": ".py",
      "mimetype": "text/x-python",
      "name": "python",
      "nbconvert_exporter": "python",
      "pygments_lexer": "ipython3",
      "version": "3.10.19"
    }
  },
  "nbformat": 4,
  "nbformat_minor": 0
}