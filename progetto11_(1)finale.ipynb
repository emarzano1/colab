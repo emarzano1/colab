{
  "cells": [
    {
      "cell_type": "code",
      "execution_count": null,
      "metadata": {
        "id": "XZhLnaWPaXSL"
      },
      "outputs": [],
      "source": [
        "# Importa le librerie\n",
        "import os\n",
        "import numpy as np\n",
        "import pandas as pd\n",
        "from PIL import Image\n",
        "from sklearn.cluster import KMeans\n",
        "from tensorflow.keras.applications.vgg16 import VGG16, preprocess_input\n",
        "from tensorflow.keras.models import Model\n",
        "import matplotlib.pyplot as plt\n",
        "import zipfile\n",
        "from skimage.segmentation import quickshift\n",
        "from skimage.segmentation import slic"
      ]
    },
    {
      "cell_type": "code",
      "execution_count": null,
      "metadata": {
        "id": "AssL92awjd_D"
      },
      "outputs": [],
      "source": [
        "from google.colab import files\n",
        "uploaded = files.upload()"
      ]
    },
    {
      "cell_type": "code",
      "execution_count": null,
      "metadata": {
        "id": "flZtPM7BtyC0"
      },
      "outputs": [],
      "source": [
        "zip_path = \"opere.zip\"\n",
        "extract_path = \"opere\"\n",
        "\n",
        "with zipfile.ZipFile(zip_path, 'r') as zip_ref:\n",
        "    zip_ref.extractall(extract_path)\n",
        "\n",
        "print(\"✅ Cartella opere estratta correttamente.\")\n",
        "\n",
        "IMAGE_DIR = \"./opere/opere\"\n",
        "TARGET_SIZE = (224, 224)\n",
        "\n",
        "print(\"📸 File trovati nella cartella opere:\")\n",
        "print(os.listdir(IMAGE_DIR)[:5])\n"
      ]
    },
    {
      "cell_type": "code",
      "execution_count": null,
      "metadata": {
        "id": "7nnSCmlPuEAL"
      },
      "outputs": [],
      "source": [
        "base_model = VGG16(weights='imagenet', include_top=False)\n",
        "model = Model(inputs=base_model.input, outputs=base_model.get_layer('block5_pool').output)\n",
        "\n",
        "def extract_features(img_path, model):\n",
        "    try:\n",
        "        img = Image.open(img_path).resize(TARGET_SIZE)\n",
        "        img_array = np.array(img)\n",
        "        img_array = np.expand_dims(img_array, axis=0)\n",
        "        img_array = preprocess_input(img_array)\n",
        "        features = model.predict(img_array, verbose=0)\n",
        "        features = features.mean(axis=(1, 2)).flatten()\n",
        "        return features\n",
        "    except Exception as e:\n",
        "        print(f\"Errore con {img_path}: {e}\")\n",
        "        return None\n"
      ]
    },
    {
      "cell_type": "code",
      "execution_count": null,
      "metadata": {
        "id": "EJDJb6hqzGzm"
      },
      "outputs": [],
      "source": [
        "from google.colab import files\n",
        "uploaded = files.upload()"
      ]
    },
    {
      "cell_type": "code",
      "execution_count": null,
      "metadata": {
        "id": "MDWf8gkcufVM"
      },
      "outputs": [],
      "source": [
        "if os.path.exists(\"feature_matrix.npy\"):\n",
        "    feature_matrix = np.load(\"feature_matrix.npy\")\n",
        "    print(\"✅ Feature caricate:\", feature_matrix.shape)\n",
        "    image_filenames = os.listdir(IMAGE_DIR)\n",
        "else:\n",
        "    print(\"⚠️ Nessun file .npy trovato, verranno rielaborate le immagini...\")\n",
        "\n",
        "    all_features = []\n",
        "    image_filenames = []\n",
        "\n",
        "    print(\"Inizio estrazione delle feature...\")\n",
        "\n",
        "    counter = 0\n",
        "    for filename in os.listdir(IMAGE_DIR):\n",
        "        if filename.lower().endswith(('.png', '.jpg', '.jpeg')):\n",
        "            file_path = os.path.join(IMAGE_DIR, filename)\n",
        "            features = extract_features(file_path, model)\n",
        "            if features is not None:\n",
        "                all_features.append(features)\n",
        "                image_filenames.append(filename)\n",
        "                counter += 1\n",
        "                if counter % 100 == 0:\n",
        "                    print(f\"{counter} immagini elaborate...\")\n",
        "\n",
        "    feature_matrix = np.array(all_features)\n",
        "    np.save(\"feature_matrix.npy\", feature_matrix)\n",
        "    print(f\"\\n✅ Estrazione completata: {len(image_filenames)} immagini.\")\n",
        "    print(f\"✅ Dimensione matrice delle feature: {feature_matrix.shape}\")\n"
      ]
    },
    {
      "cell_type": "code",
      "execution_count": null,
      "metadata": {
        "id": "IZUaD1hfDkTT"
      },
      "outputs": [],
      "source": [
        "from sklearn.cluster import KMeans\n",
        "\n",
        "inertia = []\n",
        "K_range = range(2, 11)\n",
        "\n",
        "print(\"Calcolo dell'inerzia per il Metodo del Gomito...\")\n",
        "\n",
        "for k in K_range:\n",
        "    kmeans_test = KMeans(n_clusters=k, random_state=42, n_init=10)\n",
        "    kmeans_test.fit(feature_matrix)\n",
        "    inertia.append(kmeans_test.inertia_)\n",
        "\n",
        "plt.figure(figsize=(10, 6))\n",
        "plt.plot(K_range, inertia, marker='o', linestyle='--')\n",
        "plt.title('Metodo del Gomito per determinare K')\n",
        "plt.xlabel('Numero di Cluster (K)')\n",
        "plt.ylabel('Inerzia (WSS)')\n",
        "plt.grid(True)\n",
        "plt.show()\n",
        "\n",
        "print(\"Analizza il grafico: il 'gomito' indica il K ottimale.\")"
      ]
    },
    {
      "cell_type": "code",
      "execution_count": null,
      "metadata": {
        "id": "0xBn4LVdaXST"
      },
      "outputs": [],
      "source": [
        "K = 5  # Numero di cluster\n",
        "print(f\"Inizio clustering con K = {K}...\")\n",
        "\n",
        "kmeans = KMeans(n_clusters=K, random_state=42, n_init=10)\n",
        "cluster_labels = kmeans.fit_predict(feature_matrix)\n",
        "\n",
        "print(\"Clustering completato.\")\n",
        "\n",
        "# Salva i risultati in un file CSV\n",
        "results_df = pd.DataFrame({\n",
        "    'Filename': image_filenames,\n",
        "    'Cluster': cluster_labels\n",
        "})\n",
        "results_df.to_csv(\"cluster_results.csv\", index=False)\n",
        "print(\"✅ Risultati salvati in cluster_results.csv\")\n"
      ]
    },
    {
      "cell_type": "code",
      "execution_count": null,
      "metadata": {
        "id": "AFoEtlq0aXSU"
      },
      "outputs": [],
      "source": [
        "print(\"Distribuzione dei cluster:\")\n",
        "print(results_df['Cluster'].value_counts())\n",
        "\n",
        "# 📊 Visualizzazione della distribuzione dei cluster\n",
        "results_df['Cluster'].value_counts().sort_index().plot(kind='bar', color='skyblue')\n",
        "plt.title(\"Distribuzione delle opere nei cluster\")\n",
        "plt.xlabel(\"Cluster\")\n",
        "plt.ylabel(\"Numero di immagini\")\n",
        "plt.grid(True)\n",
        "plt.show()\n"
      ]
    },
    {
      "cell_type": "code",
      "execution_count": null,
      "metadata": {
        "id": "1mYJQymMDrnS"
      },
      "outputs": [],
      "source": [
        "from sklearn.manifold import TSNE\n",
        "\n",
        "print(\"Inizio la riduzione della dimensionalità con t-SNE...\")\n",
        "\n",
        "tsne = TSNE(n_components=2, random_state=42, perplexity=30, n_iter=300)\n",
        "features_2d = tsne.fit_transform(feature_matrix)\n",
        "\n",
        "print(\"Riduzione completata.\")\n",
        "\n",
        "plt.figure(figsize=(12, 10))\n",
        "scatter = plt.scatter(\n",
        "    features_2d[:, 0], features_2d[:, 1],\n",
        "    c=cluster_labels,\n",
        "    cmap='viridis',\n",
        "    alpha=0.6\n",
        ")\n",
        "\n",
        "plt.title(\"Visualizzazione delle Opere d'Arte (t-SNE) colorate per Cluster K-Means\")\n",
        "plt.xlabel(\"Componente t-SNE 1\")\n",
        "plt.ylabel(\"Componente t-SNE 2\")\n",
        "plt.colorbar(scatter, label='Cluster ID')\n",
        "plt.grid(False)\n",
        "plt.show()\n"
      ]
    },
    {
      "cell_type": "code",
      "execution_count": null,
      "metadata": {
        "id": "ckD7E0uEwLzf"
      },
      "outputs": [],
      "source": [
        "# Visualizza le prime 5 immagini di un cluster\n",
        "cluster_id_to_show = 0\n",
        "cluster_images = results_df[results_df['Cluster'] == cluster_id_to_show]['Filename'].tolist()\n",
        "\n",
        "fig, axes = plt.subplots(1, min(5, len(cluster_images)), figsize=(15, 5))\n",
        "fig.suptitle(f\"Cluster {cluster_id_to_show}\", fontsize=16)\n",
        "\n",
        "for i, filename in enumerate(cluster_images[:5]):\n",
        "    img_path = os.path.join(IMAGE_DIR, filename)\n",
        "    img = Image.open(img_path)\n",
        "    axes[i].imshow(img)\n",
        "    axes[i].set_title(filename[:15] + '...')\n",
        "    axes[i].axis('off')\n",
        "\n",
        "plt.show()"
      ]
    },
    {
      "cell_type": "code",
      "execution_count": null,
      "metadata": {
        "id": "PBAxoBMvdUPX"
      },
      "outputs": [],
      "source": [
        "# Seleziona un cluster\n",
        "cluster_id = 0\n",
        "\n",
        "# Prendi le prime due immagini di quel cluster\n",
        "selected_images = results_df[results_df['Cluster'] == cluster_id]['Filename'].tolist()[:2]\n",
        "\n",
        "# Percorsi completi\n",
        "img1_path = os.path.join(IMAGE_DIR, selected_images[0])\n",
        "img2_path = os.path.join(IMAGE_DIR, selected_images[1])\n"
      ]
    },
    {
      "cell_type": "code",
      "execution_count": null,
      "metadata": {
        "id": "epfZzrZudU9S"
      },
      "outputs": [],
      "source": [
        "!pip install lime\n",
        "\n",
        "from lime import lime_image\n",
        "from skimage.segmentation import mark_boundaries\n",
        "\n",
        "# Inizializza LIME per immagini\n",
        "explainer = lime_image.LimeImageExplainer()\n",
        "\n",
        "from sklearn.preprocessing import normalize  # assicurati che sia importato\n",
        "\n",
        "def predict_fn_kmeans(images):\n",
        "    images = preprocess_input(images)\n",
        "    features = model.predict(images, verbose=0)\n",
        "    features = features.mean(axis=(1, 2)).reshape(-1, features.shape[-1])\n",
        "    distances = kmeans.transform(features)\n",
        "    similarities = 1 / (1 + distances)  # distanza → similarità\n",
        "    probs = normalize(similarities, norm='l1')  # normalizza come probabilità\n",
        "    return probs"
      ]
    },
    {
      "cell_type": "code",
      "source": [
        "def genera_mappa_lime(img_path, filename, titolo):\n",
        "    img = np.array(Image.open(img_path).resize(TARGET_SIZE))\n",
        "    explanation = explainer.explain_instance(\n",
        "        img,\n",
        "        predict_fn_kmeans,\n",
        "        top_labels=1,\n",
        "        hide_color=0,\n",
        "        num_samples=1000,\n",
        "        segmentation_fn=lambda x: slic(x, n_segments=50, compactness=10, sigma=1)\n",
        "    )\n",
        "    temp, mask = explanation.get_image_and_mask(\n",
        "        label=explanation.top_labels[0],\n",
        "        positive_only=True,\n",
        "        hide_rest=False,\n",
        "        num_features=10,\n",
        "        min_weight=0.0\n",
        "    )\n",
        "    original = Image.open(img_path).resize(TARGET_SIZE)\n",
        "    fig, axes = plt.subplots(1, 2, figsize=(12, 6))\n",
        "    axes[0].imshow(original)\n",
        "    axes[0].set_title(f\"Originale ({titolo})\")\n",
        "    axes[0].axis('off')\n",
        "    axes[1].imshow(temp / 255)\n",
        "    axes[1].imshow(mask, cmap='jet', alpha=0.5)\n",
        "    axes[1].set_title(\"Spiegazione LIME\")\n",
        "    axes[1].axis('off')\n",
        "    plt.suptitle(f\"Analisi Dettagliata LIME: {titolo} (Cluster {cluster_id})\", fontsize=16)\n",
        "    plt.tight_layout(rect=[0, 0.03, 1, 0.90])\n",
        "    fig.savefig(filename, bbox_inches='tight')\n",
        "    plt.show()\n",
        "    plt.close(fig)\n",
        "    print(f\"✅ Mappa LIME salvata come {filename}\")\n",
        "    return temp, mask"
      ],
      "metadata": {
        "id": "1rL4x5e_5dID"
      },
      "execution_count": null,
      "outputs": []
    },
    {
      "cell_type": "code",
      "source": [
        "lime_filename = f\"lime_explanation_{selected_images[0]}.png\"\n",
        "temp1, mask1 = genera_mappa_lime(img1_path, lime_filename, selected_images[0])"
      ],
      "metadata": {
        "id": "6VV-JjnL5kLB"
      },
      "execution_count": null,
      "outputs": []
    },
    {
      "cell_type": "code",
      "source": [
        "lime_filename_2 = f\"lime_explanation_{selected_images[1]}.png\"\n",
        "temp2, mask2 = genera_mappa_lime(img2_path, lime_filename_2, selected_images[1])"
      ],
      "metadata": {
        "id": "wa7qgQMZ5lZw"
      },
      "execution_count": null,
      "outputs": []
    },
    {
      "cell_type": "code",
      "source": [
        "fig, axes = plt.subplots(2, 2, figsize=(12, 10))\n",
        "\n",
        "axes[0, 0].imshow(Image.open(img1_path).resize(TARGET_SIZE))\n",
        "axes[0, 0].set_title(f\"Originale {selected_images[0]}\")\n",
        "axes[0, 0].axis('off')\n",
        "\n",
        "axes[0, 1].imshow(temp1 / 255)\n",
        "axes[0, 1].imshow(mask1, cmap='jet', alpha=0.5)\n",
        "axes[0, 1].set_title(\"LIME 1\")\n",
        "axes[0, 1].axis('off')\n",
        "\n",
        "axes[1, 0].imshow(Image.open(img2_path).resize(TARGET_SIZE))\n",
        "axes[1, 0].set_title(f\"Originale {selected_images[1]}\")\n",
        "axes[1, 0].axis('off')\n",
        "\n",
        "axes[1, 1].imshow(temp2 / 255)\n",
        "axes[1, 1].imshow(mask2, cmap='jet', alpha=0.5)\n",
        "axes[1, 1].set_title(\"LIME 2\")\n",
        "axes[1, 1].axis('off')\n",
        "\n",
        "plt.suptitle(\"Confronto Completo Originali + Spiegazioni\", fontsize=18)\n",
        "plt.tight_layout()\n",
        "plt.show()"
      ],
      "metadata": {
        "id": "O0lrRPbJ1Z9e"
      },
      "execution_count": null,
      "outputs": []
    }
  ],
  "metadata": {
    "colab": {
      "provenance": []
    },
    "kernelspec": {
      "display_name": "Python 3 (ipykernel)",
      "language": "python",
      "name": "python3"
    },
    "language_info": {
      "codemirror_mode": {
        "name": "ipython",
        "version": 3
      },
      "file_extension": ".py",
      "mimetype": "text/x-python",
      "name": "python",
      "nbconvert_exporter": "python",
      "pygments_lexer": "ipython3",
      "version": "3.10.19"
    }
  },
  "nbformat": 4,
  "nbformat_minor": 0
}